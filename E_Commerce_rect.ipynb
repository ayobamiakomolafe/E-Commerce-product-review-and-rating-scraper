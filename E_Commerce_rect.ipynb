{
  "cells": [
    {
      "cell_type": "code",
      "execution_count": null,
      "metadata": {
        "id": "VIl4-ykANW36"
      },
      "outputs": [],
      "source": [
        "from google.colab import drive\n",
        "drive.mount('/content/drive') "
      ]
    },
    {
      "cell_type": "code",
      "execution_count": 40,
      "metadata": {
        "colab": {
          "base_uri": "https://localhost:8080/",
          "height": 206
        },
        "id": "3kT8RlgzM0mD",
        "outputId": "73593d01-6c2f-4f77-e696-4118e8c93ee9"
      },
      "outputs": [
        {
          "output_type": "execute_result",
          "data": {
            "text/plain": [
              "   Unnamed: 0                                            reviews ratings  \\\n",
              "0           0  This laptop is unbelievably fast. Between the ...   100%;   \n",
              "1           1  This Mac like all other Apple products arrived...   100%;   \n",
              "2           2  Arrived fast, excellent memory RAM 2GB DDR 2, ...   100%;   \n",
              "3           3                            I'm coming pretty fast.   100%;   \n",
              "4           4  ALL COMBS FUNCTIONING PERFECTLY, ACCORDING TO ...   100%;   \n",
              "\n",
              "   new_ratings  \n",
              "0            5  \n",
              "1            5  \n",
              "2            5  \n",
              "3            5  \n",
              "4            5  "
            ],
            "text/html": [
              "\n",
              "  <div id=\"df-ff3cc6c5-a566-4fd7-9534-6094e7bfb2f6\">\n",
              "    <div class=\"colab-df-container\">\n",
              "      <div>\n",
              "<style scoped>\n",
              "    .dataframe tbody tr th:only-of-type {\n",
              "        vertical-align: middle;\n",
              "    }\n",
              "\n",
              "    .dataframe tbody tr th {\n",
              "        vertical-align: top;\n",
              "    }\n",
              "\n",
              "    .dataframe thead th {\n",
              "        text-align: right;\n",
              "    }\n",
              "</style>\n",
              "<table border=\"1\" class=\"dataframe\">\n",
              "  <thead>\n",
              "    <tr style=\"text-align: right;\">\n",
              "      <th></th>\n",
              "      <th>Unnamed: 0</th>\n",
              "      <th>reviews</th>\n",
              "      <th>ratings</th>\n",
              "      <th>new_ratings</th>\n",
              "    </tr>\n",
              "  </thead>\n",
              "  <tbody>\n",
              "    <tr>\n",
              "      <th>0</th>\n",
              "      <td>0</td>\n",
              "      <td>This laptop is unbelievably fast. Between the ...</td>\n",
              "      <td>100%;</td>\n",
              "      <td>5</td>\n",
              "    </tr>\n",
              "    <tr>\n",
              "      <th>1</th>\n",
              "      <td>1</td>\n",
              "      <td>This Mac like all other Apple products arrived...</td>\n",
              "      <td>100%;</td>\n",
              "      <td>5</td>\n",
              "    </tr>\n",
              "    <tr>\n",
              "      <th>2</th>\n",
              "      <td>2</td>\n",
              "      <td>Arrived fast, excellent memory RAM 2GB DDR 2, ...</td>\n",
              "      <td>100%;</td>\n",
              "      <td>5</td>\n",
              "    </tr>\n",
              "    <tr>\n",
              "      <th>3</th>\n",
              "      <td>3</td>\n",
              "      <td>I'm coming pretty fast.</td>\n",
              "      <td>100%;</td>\n",
              "      <td>5</td>\n",
              "    </tr>\n",
              "    <tr>\n",
              "      <th>4</th>\n",
              "      <td>4</td>\n",
              "      <td>ALL COMBS FUNCTIONING PERFECTLY, ACCORDING TO ...</td>\n",
              "      <td>100%;</td>\n",
              "      <td>5</td>\n",
              "    </tr>\n",
              "  </tbody>\n",
              "</table>\n",
              "</div>\n",
              "      <button class=\"colab-df-convert\" onclick=\"convertToInteractive('df-ff3cc6c5-a566-4fd7-9534-6094e7bfb2f6')\"\n",
              "              title=\"Convert this dataframe to an interactive table.\"\n",
              "              style=\"display:none;\">\n",
              "        \n",
              "  <svg xmlns=\"http://www.w3.org/2000/svg\" height=\"24px\"viewBox=\"0 0 24 24\"\n",
              "       width=\"24px\">\n",
              "    <path d=\"M0 0h24v24H0V0z\" fill=\"none\"/>\n",
              "    <path d=\"M18.56 5.44l.94 2.06.94-2.06 2.06-.94-2.06-.94-.94-2.06-.94 2.06-2.06.94zm-11 1L8.5 8.5l.94-2.06 2.06-.94-2.06-.94L8.5 2.5l-.94 2.06-2.06.94zm10 10l.94 2.06.94-2.06 2.06-.94-2.06-.94-.94-2.06-.94 2.06-2.06.94z\"/><path d=\"M17.41 7.96l-1.37-1.37c-.4-.4-.92-.59-1.43-.59-.52 0-1.04.2-1.43.59L10.3 9.45l-7.72 7.72c-.78.78-.78 2.05 0 2.83L4 21.41c.39.39.9.59 1.41.59.51 0 1.02-.2 1.41-.59l7.78-7.78 2.81-2.81c.8-.78.8-2.07 0-2.86zM5.41 20L4 18.59l7.72-7.72 1.47 1.35L5.41 20z\"/>\n",
              "  </svg>\n",
              "      </button>\n",
              "      \n",
              "  <style>\n",
              "    .colab-df-container {\n",
              "      display:flex;\n",
              "      flex-wrap:wrap;\n",
              "      gap: 12px;\n",
              "    }\n",
              "\n",
              "    .colab-df-convert {\n",
              "      background-color: #E8F0FE;\n",
              "      border: none;\n",
              "      border-radius: 50%;\n",
              "      cursor: pointer;\n",
              "      display: none;\n",
              "      fill: #1967D2;\n",
              "      height: 32px;\n",
              "      padding: 0 0 0 0;\n",
              "      width: 32px;\n",
              "    }\n",
              "\n",
              "    .colab-df-convert:hover {\n",
              "      background-color: #E2EBFA;\n",
              "      box-shadow: 0px 1px 2px rgba(60, 64, 67, 0.3), 0px 1px 3px 1px rgba(60, 64, 67, 0.15);\n",
              "      fill: #174EA6;\n",
              "    }\n",
              "\n",
              "    [theme=dark] .colab-df-convert {\n",
              "      background-color: #3B4455;\n",
              "      fill: #D2E3FC;\n",
              "    }\n",
              "\n",
              "    [theme=dark] .colab-df-convert:hover {\n",
              "      background-color: #434B5C;\n",
              "      box-shadow: 0px 1px 3px 1px rgba(0, 0, 0, 0.15);\n",
              "      filter: drop-shadow(0px 1px 2px rgba(0, 0, 0, 0.3));\n",
              "      fill: #FFFFFF;\n",
              "    }\n",
              "  </style>\n",
              "\n",
              "      <script>\n",
              "        const buttonEl =\n",
              "          document.querySelector('#df-ff3cc6c5-a566-4fd7-9534-6094e7bfb2f6 button.colab-df-convert');\n",
              "        buttonEl.style.display =\n",
              "          google.colab.kernel.accessAllowed ? 'block' : 'none';\n",
              "\n",
              "        async function convertToInteractive(key) {\n",
              "          const element = document.querySelector('#df-ff3cc6c5-a566-4fd7-9534-6094e7bfb2f6');\n",
              "          const dataTable =\n",
              "            await google.colab.kernel.invokeFunction('convertToInteractive',\n",
              "                                                     [key], {});\n",
              "          if (!dataTable) return;\n",
              "\n",
              "          const docLinkHtml = 'Like what you see? Visit the ' +\n",
              "            '<a target=\"_blank\" href=https://colab.research.google.com/notebooks/data_table.ipynb>data table notebook</a>'\n",
              "            + ' to learn more about interactive tables.';\n",
              "          element.innerHTML = '';\n",
              "          dataTable['output_type'] = 'display_data';\n",
              "          await google.colab.output.renderOutput(dataTable, element);\n",
              "          const docLink = document.createElement('div');\n",
              "          docLink.innerHTML = docLinkHtml;\n",
              "          element.appendChild(docLink);\n",
              "        }\n",
              "      </script>\n",
              "    </div>\n",
              "  </div>\n",
              "  "
            ]
          },
          "metadata": {},
          "execution_count": 40
        }
      ],
      "source": [
        "import pandas as pd\n",
        "df=pd.read_csv('/content/drive/MyDrive/clean_data.csv')\n",
        "df.head()"
      ]
    },
    {
      "cell_type": "code",
      "source": [
        "# create a function\n",
        "def page_authenticity(new_ratings):\n",
        "    if new_ratings >= 4:\n",
        "        return \"Authentic\"\n",
        "    elif new_ratings <3 or new_ratings ==2.5:\n",
        "        return \"Normal\"\n",
        "    else:\n",
        "      return \"Not Authentic\"\n",
        "# create a new column based on condition\n",
        "df['page_authenticity'] = df['new_ratings'].apply(page_authenticity)\n",
        "# display the dataframe\n",
        "df.head()"
      ],
      "metadata": {
        "colab": {
          "base_uri": "https://localhost:8080/",
          "height": 206
        },
        "id": "HHl8ef8Z7r2E",
        "outputId": "5abef752-51e1-47f6-8395-6540cc95c938"
      },
      "execution_count": 41,
      "outputs": [
        {
          "output_type": "execute_result",
          "data": {
            "text/plain": [
              "   Unnamed: 0                                            reviews ratings  \\\n",
              "0           0  This laptop is unbelievably fast. Between the ...   100%;   \n",
              "1           1  This Mac like all other Apple products arrived...   100%;   \n",
              "2           2  Arrived fast, excellent memory RAM 2GB DDR 2, ...   100%;   \n",
              "3           3                            I'm coming pretty fast.   100%;   \n",
              "4           4  ALL COMBS FUNCTIONING PERFECTLY, ACCORDING TO ...   100%;   \n",
              "\n",
              "   new_ratings page_authenticity  \n",
              "0            5         Authentic  \n",
              "1            5         Authentic  \n",
              "2            5         Authentic  \n",
              "3            5         Authentic  \n",
              "4            5         Authentic  "
            ],
            "text/html": [
              "\n",
              "  <div id=\"df-fcdef428-a4ba-40f0-9a9c-80e710a0a51c\">\n",
              "    <div class=\"colab-df-container\">\n",
              "      <div>\n",
              "<style scoped>\n",
              "    .dataframe tbody tr th:only-of-type {\n",
              "        vertical-align: middle;\n",
              "    }\n",
              "\n",
              "    .dataframe tbody tr th {\n",
              "        vertical-align: top;\n",
              "    }\n",
              "\n",
              "    .dataframe thead th {\n",
              "        text-align: right;\n",
              "    }\n",
              "</style>\n",
              "<table border=\"1\" class=\"dataframe\">\n",
              "  <thead>\n",
              "    <tr style=\"text-align: right;\">\n",
              "      <th></th>\n",
              "      <th>Unnamed: 0</th>\n",
              "      <th>reviews</th>\n",
              "      <th>ratings</th>\n",
              "      <th>new_ratings</th>\n",
              "      <th>page_authenticity</th>\n",
              "    </tr>\n",
              "  </thead>\n",
              "  <tbody>\n",
              "    <tr>\n",
              "      <th>0</th>\n",
              "      <td>0</td>\n",
              "      <td>This laptop is unbelievably fast. Between the ...</td>\n",
              "      <td>100%;</td>\n",
              "      <td>5</td>\n",
              "      <td>Authentic</td>\n",
              "    </tr>\n",
              "    <tr>\n",
              "      <th>1</th>\n",
              "      <td>1</td>\n",
              "      <td>This Mac like all other Apple products arrived...</td>\n",
              "      <td>100%;</td>\n",
              "      <td>5</td>\n",
              "      <td>Authentic</td>\n",
              "    </tr>\n",
              "    <tr>\n",
              "      <th>2</th>\n",
              "      <td>2</td>\n",
              "      <td>Arrived fast, excellent memory RAM 2GB DDR 2, ...</td>\n",
              "      <td>100%;</td>\n",
              "      <td>5</td>\n",
              "      <td>Authentic</td>\n",
              "    </tr>\n",
              "    <tr>\n",
              "      <th>3</th>\n",
              "      <td>3</td>\n",
              "      <td>I'm coming pretty fast.</td>\n",
              "      <td>100%;</td>\n",
              "      <td>5</td>\n",
              "      <td>Authentic</td>\n",
              "    </tr>\n",
              "    <tr>\n",
              "      <th>4</th>\n",
              "      <td>4</td>\n",
              "      <td>ALL COMBS FUNCTIONING PERFECTLY, ACCORDING TO ...</td>\n",
              "      <td>100%;</td>\n",
              "      <td>5</td>\n",
              "      <td>Authentic</td>\n",
              "    </tr>\n",
              "  </tbody>\n",
              "</table>\n",
              "</div>\n",
              "      <button class=\"colab-df-convert\" onclick=\"convertToInteractive('df-fcdef428-a4ba-40f0-9a9c-80e710a0a51c')\"\n",
              "              title=\"Convert this dataframe to an interactive table.\"\n",
              "              style=\"display:none;\">\n",
              "        \n",
              "  <svg xmlns=\"http://www.w3.org/2000/svg\" height=\"24px\"viewBox=\"0 0 24 24\"\n",
              "       width=\"24px\">\n",
              "    <path d=\"M0 0h24v24H0V0z\" fill=\"none\"/>\n",
              "    <path d=\"M18.56 5.44l.94 2.06.94-2.06 2.06-.94-2.06-.94-.94-2.06-.94 2.06-2.06.94zm-11 1L8.5 8.5l.94-2.06 2.06-.94-2.06-.94L8.5 2.5l-.94 2.06-2.06.94zm10 10l.94 2.06.94-2.06 2.06-.94-2.06-.94-.94-2.06-.94 2.06-2.06.94z\"/><path d=\"M17.41 7.96l-1.37-1.37c-.4-.4-.92-.59-1.43-.59-.52 0-1.04.2-1.43.59L10.3 9.45l-7.72 7.72c-.78.78-.78 2.05 0 2.83L4 21.41c.39.39.9.59 1.41.59.51 0 1.02-.2 1.41-.59l7.78-7.78 2.81-2.81c.8-.78.8-2.07 0-2.86zM5.41 20L4 18.59l7.72-7.72 1.47 1.35L5.41 20z\"/>\n",
              "  </svg>\n",
              "      </button>\n",
              "      \n",
              "  <style>\n",
              "    .colab-df-container {\n",
              "      display:flex;\n",
              "      flex-wrap:wrap;\n",
              "      gap: 12px;\n",
              "    }\n",
              "\n",
              "    .colab-df-convert {\n",
              "      background-color: #E8F0FE;\n",
              "      border: none;\n",
              "      border-radius: 50%;\n",
              "      cursor: pointer;\n",
              "      display: none;\n",
              "      fill: #1967D2;\n",
              "      height: 32px;\n",
              "      padding: 0 0 0 0;\n",
              "      width: 32px;\n",
              "    }\n",
              "\n",
              "    .colab-df-convert:hover {\n",
              "      background-color: #E2EBFA;\n",
              "      box-shadow: 0px 1px 2px rgba(60, 64, 67, 0.3), 0px 1px 3px 1px rgba(60, 64, 67, 0.15);\n",
              "      fill: #174EA6;\n",
              "    }\n",
              "\n",
              "    [theme=dark] .colab-df-convert {\n",
              "      background-color: #3B4455;\n",
              "      fill: #D2E3FC;\n",
              "    }\n",
              "\n",
              "    [theme=dark] .colab-df-convert:hover {\n",
              "      background-color: #434B5C;\n",
              "      box-shadow: 0px 1px 3px 1px rgba(0, 0, 0, 0.15);\n",
              "      filter: drop-shadow(0px 1px 2px rgba(0, 0, 0, 0.3));\n",
              "      fill: #FFFFFF;\n",
              "    }\n",
              "  </style>\n",
              "\n",
              "      <script>\n",
              "        const buttonEl =\n",
              "          document.querySelector('#df-fcdef428-a4ba-40f0-9a9c-80e710a0a51c button.colab-df-convert');\n",
              "        buttonEl.style.display =\n",
              "          google.colab.kernel.accessAllowed ? 'block' : 'none';\n",
              "\n",
              "        async function convertToInteractive(key) {\n",
              "          const element = document.querySelector('#df-fcdef428-a4ba-40f0-9a9c-80e710a0a51c');\n",
              "          const dataTable =\n",
              "            await google.colab.kernel.invokeFunction('convertToInteractive',\n",
              "                                                     [key], {});\n",
              "          if (!dataTable) return;\n",
              "\n",
              "          const docLinkHtml = 'Like what you see? Visit the ' +\n",
              "            '<a target=\"_blank\" href=https://colab.research.google.com/notebooks/data_table.ipynb>data table notebook</a>'\n",
              "            + ' to learn more about interactive tables.';\n",
              "          element.innerHTML = '';\n",
              "          dataTable['output_type'] = 'display_data';\n",
              "          await google.colab.output.renderOutput(dataTable, element);\n",
              "          const docLink = document.createElement('div');\n",
              "          docLink.innerHTML = docLinkHtml;\n",
              "          element.appendChild(docLink);\n",
              "        }\n",
              "      </script>\n",
              "    </div>\n",
              "  </div>\n",
              "  "
            ]
          },
          "metadata": {},
          "execution_count": 41
        }
      ]
    },
    {
      "cell_type": "code",
      "source": [
        "new_dataset= df.to_csv(\"new_dataset.csv\", index=False)\n"
      ],
      "metadata": {
        "id": "QPGOI2Mvvoon"
      },
      "execution_count": 42,
      "outputs": []
    },
    {
      "cell_type": "markdown",
      "metadata": {
        "id": "3XvZKTwg4Ypp"
      },
      "source": [
        "Data Preparation"
      ]
    },
    {
      "cell_type": "code",
      "execution_count": 43,
      "metadata": {
        "id": "1jDpi3y_4tG2"
      },
      "outputs": [],
      "source": [
        "import tensorflow as tf\n",
        "from tensorflow import keras\n",
        "from tensorflow.keras.preprocessing.text import Tokenizer\n",
        "from tensorflow.keras.preprocessing.sequence import pad_sequences"
      ]
    },
    {
      "cell_type": "code",
      "source": [
        "new_ratings_reviews=[]\n",
        "for a, b in zip(df['reviews'].to_list(), df['new_ratings'].to_list()):\n",
        "  new_ratings_reviews.append(str(a) + ' '+ str(b))\n",
        "\n",
        "\n"
      ],
      "metadata": {
        "id": "i2vye6-ZCs32"
      },
      "execution_count": 44,
      "outputs": []
    },
    {
      "cell_type": "code",
      "source": [
        "df['new_ratings_reviews']=new_ratings_reviews"
      ],
      "metadata": {
        "id": "YECQFaqNFoED"
      },
      "execution_count": 45,
      "outputs": []
    },
    {
      "cell_type": "code",
      "execution_count": 46,
      "metadata": {
        "id": "zBsYCCJCDc-e"
      },
      "outputs": [],
      "source": [
        "df=df[['new_ratings_reviews', \"page_authenticity\"]]"
      ]
    },
    {
      "cell_type": "code",
      "execution_count": 47,
      "metadata": {
        "id": "00-Xmn5c4Xct"
      },
      "outputs": [],
      "source": [
        "\"Drop duplicate values\"\n",
        "df.drop_duplicates(inplace=True)"
      ]
    },
    {
      "cell_type": "code",
      "execution_count": 48,
      "metadata": {
        "id": "zY0Gdzuc6f2j"
      },
      "outputs": [],
      "source": [
        "df = df.dropna()"
      ]
    },
    {
      "cell_type": "code",
      "source": [
        "df.reset_index().rename(columns={'index':'u'}).drop('u', axis=1, inplace=True)"
      ],
      "metadata": {
        "id": "CGbzzIzJHKy6"
      },
      "execution_count": 49,
      "outputs": []
    },
    {
      "cell_type": "code",
      "execution_count": 50,
      "metadata": {
        "id": "MFLQudKVHmrL",
        "colab": {
          "base_uri": "https://localhost:8080/"
        },
        "outputId": "28c37158-ae96-4e70-dd66-67f0086e7a73"
      },
      "outputs": [
        {
          "output_type": "execute_result",
          "data": {
            "text/plain": [
              "(8368, 2)"
            ]
          },
          "metadata": {},
          "execution_count": 50
        }
      ],
      "source": [
        "df.shape"
      ]
    },
    {
      "cell_type": "code",
      "source": [
        "df['page_authenticity'].replace('Authentic', 1, inplace=True)\n",
        "df['page_authenticity'].replace('Normal', 2, inplace=True)\n",
        "df['page_authenticity'].replace('Not Authentic', 3, inplace=True)"
      ],
      "metadata": {
        "id": "-uM3DspfKn4M"
      },
      "execution_count": 51,
      "outputs": []
    },
    {
      "cell_type": "code",
      "source": [
        "df=df.reset_index()\n",
        "df=df[['new_ratings_reviews',\t'page_authenticity']]"
      ],
      "metadata": {
        "id": "t6oiRIOAlgg1"
      },
      "execution_count": null,
      "outputs": []
    },
    {
      "cell_type": "code",
      "source": [
        "df['new_ratings_reviews'].to_list()[77]"
      ],
      "metadata": {
        "id": "4baBaW4SioV2"
      },
      "execution_count": null,
      "outputs": []
    },
    {
      "cell_type": "code",
      "execution_count": 61,
      "metadata": {
        "id": "YvpJQRh05qTi"
      },
      "outputs": [],
      "source": [
        "train_x=df.loc[:7500, 'new_ratings_reviews']\n",
        "train_y=df.loc[:7500, 'page_authenticity']\n",
        "test_x= df.loc[7500:, 'new_ratings_reviews']\n",
        "test_y= df.loc[7500:, 'page_authenticity']"
      ]
    },
    {
      "cell_type": "code",
      "execution_count": 62,
      "metadata": {
        "id": "H1A3_fbG4hKd"
      },
      "outputs": [],
      "source": [
        "num_words=3000\n",
        "tokenizer=Tokenizer(num_words=num_words,oov_token='oov')\n",
        "tokenizer.fit_on_texts(train_x.values)"
      ]
    },
    {
      "cell_type": "code",
      "execution_count": 63,
      "metadata": {
        "id": "jPx4pKLl47MV"
      },
      "outputs": [],
      "source": [
        "tok_tr=tokenizer.texts_to_sequences(train_x.values)\n",
        "tok_te=tokenizer.texts_to_sequences(test_x.values)"
      ]
    },
    {
      "cell_type": "code",
      "execution_count": 17,
      "metadata": {
        "id": "XXkcfHlO5PHd",
        "colab": {
          "base_uri": "https://localhost:8080/"
        },
        "outputId": "1deb878a-0153-422c-f378-be1541a0dec0"
      },
      "outputs": [
        {
          "output_type": "execute_result",
          "data": {
            "text/plain": [
              "11"
            ]
          },
          "metadata": {},
          "execution_count": 17
        }
      ],
      "source": [
        "max_count=[]\n",
        "for i in tok_tr:\n",
        "  x=len(i)\n",
        "  max_count.append(x)\n",
        "max_count.sort()\n",
        "max_count[-600]"
      ]
    },
    {
      "cell_type": "code",
      "execution_count": 64,
      "metadata": {
        "id": "4meJ3NZr5G8L"
      },
      "outputs": [],
      "source": [
        "pad_tr=pad_sequences(tok_tr,maxlen=10,padding='post', truncating='post')\n",
        "pad_te=pad_sequences(tok_te,maxlen=10,padding='post', truncating='post')"
      ]
    },
    {
      "cell_type": "markdown",
      "metadata": {
        "id": "mfj3dapY7zSZ"
      },
      "source": [
        "Model Training for Rating Prediction Based on Review"
      ]
    },
    {
      "cell_type": "code",
      "execution_count": 65,
      "metadata": {
        "id": "WGOmwmp55Y3t"
      },
      "outputs": [],
      "source": [
        "model=tf.keras.Sequential([\n",
        "                           tf.keras.layers.Embedding(input_dim=num_words,output_dim=64,input_length=10),\n",
        "                           tf.keras.layers.Bidirectional(tf.keras.layers.LSTM(16)),\n",
        "                           tf.keras.layers.Dropout(0.8),\n",
        "                           tf.keras.layers.Dense(16,activation='relu'),\n",
        "                           tf.keras.layers.Dense(4, activation='softmax')]) \n",
        "\n",
        "model.compile(loss='sparse_categorical_crossentropy', optimizer='adam', metrics=['accuracy'])"
      ]
    },
    {
      "cell_type": "code",
      "source": [
        "test_y.unique()"
      ],
      "metadata": {
        "colab": {
          "base_uri": "https://localhost:8080/"
        },
        "id": "b5CbP17znPwk",
        "outputId": "18183762-ff02-4f51-a037-26e7a7648cdd"
      },
      "execution_count": 68,
      "outputs": [
        {
          "output_type": "execute_result",
          "data": {
            "text/plain": [
              "array([1, 2, 3])"
            ]
          },
          "metadata": {},
          "execution_count": 68
        }
      ]
    },
    {
      "cell_type": "code",
      "execution_count": 69,
      "metadata": {
        "id": "EhmDt-yG5agz"
      },
      "outputs": [],
      "source": [
        "train_y=np.array(train_y)\n",
        "test_y=np.array(test_y)\n"
      ]
    },
    {
      "cell_type": "code",
      "execution_count": 70,
      "metadata": {
        "id": "vkSkasim5kU2",
        "colab": {
          "base_uri": "https://localhost:8080/"
        },
        "outputId": "16256ab7-b91f-4206-b0da-9ec99b3d990b"
      },
      "outputs": [
        {
          "output_type": "stream",
          "name": "stdout",
          "text": [
            "Epoch 1/6\n",
            "235/235 [==============================] - 5s 10ms/step - loss: 0.6275 - accuracy: 0.7934 - val_loss: 0.1689 - val_accuracy: 0.9171\n",
            "Epoch 2/6\n",
            "235/235 [==============================] - 2s 7ms/step - loss: 0.2620 - accuracy: 0.8923 - val_loss: 0.1362 - val_accuracy: 0.9171\n",
            "Epoch 3/6\n",
            "235/235 [==============================] - 2s 7ms/step - loss: 0.1664 - accuracy: 0.9319 - val_loss: 0.0662 - val_accuracy: 0.9885\n",
            "Epoch 4/6\n",
            "235/235 [==============================] - 2s 6ms/step - loss: 0.0830 - accuracy: 0.9749 - val_loss: 0.0758 - val_accuracy: 0.9850\n",
            "Epoch 5/6\n",
            "235/235 [==============================] - 2s 6ms/step - loss: 0.0550 - accuracy: 0.9835 - val_loss: 0.0808 - val_accuracy: 0.9781\n",
            "Epoch 6/6\n",
            "235/235 [==============================] - 2s 6ms/step - loss: 0.0401 - accuracy: 0.9872 - val_loss: 0.0680 - val_accuracy: 0.9839\n"
          ]
        },
        {
          "output_type": "execute_result",
          "data": {
            "text/plain": [
              "<keras.callbacks.History at 0x7f7e27639fd0>"
            ]
          },
          "metadata": {},
          "execution_count": 70
        }
      ],
      "source": [
        "model.fit(pad_tr, train_y,validation_data=[pad_te, test_y],  epochs=6)"
      ]
    },
    {
      "cell_type": "markdown",
      "source": [
        "Prediction"
      ],
      "metadata": {
        "id": "eKppQ-w5he1o"
      }
    },
    {
      "cell_type": "code",
      "source": [
        "pred='great laptop'\n",
        "pred=tokenizer.texts_to_sequences([pred])\n",
        "\n"
      ],
      "metadata": {
        "id": "j6c9FXI9hfWT"
      },
      "execution_count": 80,
      "outputs": []
    },
    {
      "cell_type": "code",
      "source": [
        "pred=pad_sequences(pred,maxlen=10,padding='post', truncating='post')"
      ],
      "metadata": {
        "id": "1We1JNcEn4W2"
      },
      "execution_count": 81,
      "outputs": []
    },
    {
      "cell_type": "code",
      "source": [
        "pred"
      ],
      "metadata": {
        "colab": {
          "base_uri": "https://localhost:8080/"
        },
        "id": "QibjtVLqns4O",
        "outputId": "49667f32-d7da-4673-beb8-bf0a151d3f68"
      },
      "execution_count": 82,
      "outputs": [
        {
          "output_type": "execute_result",
          "data": {
            "text/plain": [
              "array([[ 4, 24,  0,  0,  0,  0,  0,  0,  0,  0]], dtype=int32)"
            ]
          },
          "metadata": {},
          "execution_count": 82
        }
      ]
    },
    {
      "cell_type": "code",
      "source": [
        "import numpy as np\n",
        "np.argmax(model.predict(pred))"
      ],
      "metadata": {
        "colab": {
          "base_uri": "https://localhost:8080/"
        },
        "id": "r6awmJsPjlDI",
        "outputId": "677ab4bf-b071-48b5-cd04-57286f2517f5"
      },
      "execution_count": 83,
      "outputs": [
        {
          "output_type": "execute_result",
          "data": {
            "text/plain": [
              "1"
            ]
          },
          "metadata": {},
          "execution_count": 83
        }
      ]
    }
  ],
  "metadata": {
    "accelerator": "GPU",
    "colab": {
      "collapsed_sections": [],
      "name": "E_Commerce_rect.ipynb",
      "provenance": []
    },
    "kernelspec": {
      "display_name": "Python 3 (ipykernel)",
      "language": "python",
      "name": "python3"
    },
    "language_info": {
      "codemirror_mode": {
        "name": "ipython",
        "version": 3
      },
      "file_extension": ".py",
      "mimetype": "text/x-python",
      "name": "python",
      "nbconvert_exporter": "python",
      "pygments_lexer": "ipython3",
      "version": "3.9.7"
    }
  },
  "nbformat": 4,
  "nbformat_minor": 0
}